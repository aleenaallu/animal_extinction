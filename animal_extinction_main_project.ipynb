{
  "nbformat": 4,
  "nbformat_minor": 0,
  "metadata": {
    "colab": {
      "provenance": []
    },
    "kernelspec": {
      "name": "python3",
      "display_name": "Python 3"
    },
    "language_info": {
      "name": "python"
    }
  },
  "cells": [
    {
      "cell_type": "code",
      "source": [
        "import pandas as pd\n",
        "from sklearn import tree\n",
        "from sklearn.preprocessing import LabelEncoder, OneHotEncoder\n",
        "from sklearn.model_selection import train_test_split\n",
        "from sklearn.compose import make_column_transformer\n",
        "from sklearn.pipeline import make_pipeline\n",
        "import pickle\n",
        "\n",
        "# Load your dataset\n",
        "data = pd.read_csv('Animalset.csv', encoding='unicode_escape')\n",
        "\n",
        "# Separate features (x) and target variable (y)\n",
        "x = data.drop(['Stage'], axis='columns')\n",
        "y = data['Stage']\n",
        "\n",
        "# Encode categorical features (Name and Species)\n",
        "le_data = LabelEncoder()\n",
        "Name_l = le_data.fit_transform(x['Name'])\n",
        "Species_l = le_data.fit_transform(x['Species'])\n",
        "x['Name'] = Name_l\n",
        "x['Species'] = Species_l\n",
        "\n",
        "# Create a decision tree classifier\n",
        "model = tree.DecisionTreeClassifier()\n",
        "\n",
        "# Split the data into training and testing sets\n",
        "x_train, x_test, y_train, y_test = train_test_split(x, y, test_size=0.2)\n",
        "\n",
        "# Define the transformation and model pipeline\n",
        "onehot = OneHotEncoder()\n",
        "onehot.fit(x[['Name', 'Species']])\n",
        "a = make_column_transformer((OneHotEncoder(categories=onehot.categories_, handle_unknown='ignore'), ['Name', 'Species']), remainder='passthrough')\n",
        "pipe = make_pipeline(a, model)\n",
        "\n",
        "# Fit the model to the training data\n",
        "pipe.fit(x_train, y_train)\n",
        "\n",
        "# Evaluate the model on the test data\n",
        "accuracy = pipe.score(x_test, y_test)\n",
        "print(f\"Model Accuracy: {accuracy}\")\n",
        "\n",
        "# Pickle the trained model\n",
        "with open('predic.pkl', 'wb') as file:\n",
        "    pickle.dump(pipe, file)\n"
      ],
      "metadata": {
        "id": "bKFzQaIuPIol"
      },
      "execution_count": null,
      "outputs": []
    }
  ]
}